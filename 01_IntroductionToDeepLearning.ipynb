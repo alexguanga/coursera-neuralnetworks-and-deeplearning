{
 "cells": [
  {
   "cell_type": "markdown",
   "metadata": {},
   "source": [
    "# Introduction to Deep Learning"
   ]
  },
  {
   "cell_type": "markdown",
   "metadata": {},
   "source": [
    "## What is a neural network?\n",
    "\n",
    "<img src=\"./images/deep_01.png\" alt=\"Drawing\" style=\"width: 400px;\"/>\n",
    "\n",
    "- In the image above, the intuition is that when we have a house regression problem where we do not care about negative prices (bc they cannot happen). \n",
    "- Thus, the best practice will be to prevent the regression from 'crossing' over the x-axis.\n",
    "- Thus, we have a variable X, we can insert into the ReLu function (Rectified Linear Unit) to get number that is linear until the x-axis. \n",
    "    - <img src=\"./images/deep_02.png\" alt=\"Drawing\" style=\"width: 300px;\"/>\n",
    "\n",
    "- When we add a lot of these function, we get the neural network. \n",
    "- Remember, each neuron is a funciton of its own. Thus, it will optimize on different situation. E.g. In the image below, one ReLu funciton can figure the room and size of rooms depicts the family size. Or the zip code can tell us about the walkability to different things. The wealth can tells us about the school quality. \n",
    "- <img src=\"./images/deep_03.png\" alt=\"Drawing\" style=\"width: 400px;\"/>\n",
    "- The image is a bit unclear, but all variables are used for every single node in the ReLu function. However, as I know, some of the weights can be updated to 0 so they have no affect in the hidden layer (where we look for individuals functions)"
   ]
  },
  {
   "cell_type": "markdown",
   "metadata": {},
   "source": [
    "## Supervised Learning with Neural Networks\n",
    "<img src=\"./images/deep_04.png\" alt=\"Drawing\" style=\"width: 400px;\"/>\n",
    "<img src=\"./images/deep_05.png\" alt=\"Drawing\" style=\"width: 400px;\"/>\n",
    "- Notice in the image above, the different types of neural networks are explained with its applications. An intersting note is the speech. It is represented by RNN because it is a time series application where time is involved!\n",
    "- Examples of different neural networks\n",
    "    - <img src=\"./images/deep_06.png\" alt=\"Drawing\" style=\"width: 400px;\"/>\n",
    "- Structure VS Unstructure\n",
    "    - <img src=\"./images/deep_07.png\" alt=\"Drawing\" style=\"width: 400px;\"/>\n",
    "\n",
    "**Remember that supervised learning means we know the answers, thus we can compare our results with the actual and modify changes based on that.**"
   ]
  },
  {
   "cell_type": "markdown",
   "metadata": {},
   "source": [
    "## Why is Deep Learning taking off?\n",
    "The basic idea of deep learning have been in domain of our knowledge the longest. Moreove, we have seen that scale has the best driving force of neural networks. In recent times, we have seen that we have been getting more data but the sad part is that we did not have complicated models to leverage the more data. The image below will show the traditional models are not able to scale the large amount of data. \n",
    "\n",
    "Also, we need a lot of data. Looking at the graph below, when the amount of data is similar, the traditonal models tend to have similar performance as neural networks. \n",
    "\n",
    "We need a large neural netwrok with a lot of data for the best performance!!\n",
    "\n",
    "<img src=\"./images/deep_08.png\" alt=\"Drawing\" style=\"width: 400px;\"/>\n",
    "\n",
    "Another thing that has happened in the changing of standard function. One neat thing is the change from logistic regression to the relu function. The drawback with the relu funciton is that it has a slow slope at the end or the top. Thus, the gradient will change very slow when compared to the relu function (which is represented by a linear function till the x-axis)\n",
    "- <img src=\"./images/deep_09.png\" alt=\"Drawing\" style=\"width: 400px;\"/>\n",
    "\n",
    "The biggest changes have been Data, Computation, and Algorithms"
   ]
  },
  {
   "cell_type": "markdown",
   "metadata": {},
   "source": [
    "## About this Course\n",
    "<img src=\"./images/deep_10.png\" alt=\"Drawing\" style=\"width: 400px;\"/>\n"
   ]
  }
 ],
 "metadata": {
  "kernelspec": {
   "display_name": "Python 3",
   "language": "python",
   "name": "python3"
  },
  "language_info": {
   "codemirror_mode": {
    "name": "ipython",
    "version": 3
   },
   "file_extension": ".py",
   "mimetype": "text/x-python",
   "name": "python",
   "nbconvert_exporter": "python",
   "pygments_lexer": "ipython3",
   "version": "3.6.6"
  }
 },
 "nbformat": 4,
 "nbformat_minor": 2
}
