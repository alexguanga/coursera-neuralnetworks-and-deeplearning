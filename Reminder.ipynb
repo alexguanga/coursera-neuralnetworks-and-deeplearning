{
 "cells": [
  {
   "cell_type": "markdown",
   "metadata": {},
   "source": [
    "Example: $a_i^{[l]}$\n",
    "- The i represents the node while the l represents the layer\n",
    "- Remember that every node represents a individual equation. These are equation are computed by the deep neural network to find.\n",
    "\n",
    "When we see m, we are talking about all the training examples.\n",
    "\n",
    "When we see n, we are talking about all the feature for a training example."
   ]
  }
 ],
 "metadata": {
  "kernelspec": {
   "display_name": "Python 3",
   "language": "python",
   "name": "python3"
  },
  "language_info": {
   "codemirror_mode": {
    "name": "ipython",
    "version": 3
   },
   "file_extension": ".py",
   "mimetype": "text/x-python",
   "name": "python",
   "nbconvert_exporter": "python",
   "pygments_lexer": "ipython3",
   "version": "3.6.6"
  }
 },
 "nbformat": 4,
 "nbformat_minor": 2
}
